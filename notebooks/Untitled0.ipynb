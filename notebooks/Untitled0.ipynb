{
  "nbformat": 4,
  "nbformat_minor": 0,
  "metadata": {
    "colab": {
      "provenance": []
    },
    "kernelspec": {
      "name": "python3",
      "display_name": "Python 3"
    }
  },
  "cells": [
    {
      "cell_type": "code",
      "metadata": {
        "colab": {
          "base_uri": "https://localhost:8080/"
        },
        "id": "dyucO8hkBMJG",
        "outputId": "4d160b21-695c-4595-9dd0-585f4123ac2d"
      },
      "source": [
        "import numpy as np\n",
        "\n",
        "item_number = np.arange(1,11)\n",
        "population_size = (10, item_number.shape[0])\n",
        "initial_population_x = np.random.randint(2, size = population_size)\n",
        "initial_population_sigma = np.random.randint(range(0,10), 10)\n",
        "initial_population = []\n",
        "initial_population.append(initial_population_x)\n",
        "initial_population.append(initial_population_sigma)\n",
        "print(initial_population[0])"
      ],
      "execution_count": null,
      "outputs": [
        {
          "output_type": "stream",
          "text": [
            "[[0 1 1 0 1 1 1 0 1 1]\n",
            " [1 1 1 1 1 0 0 0 1 1]\n",
            " [1 1 0 0 1 1 1 1 1 0]\n",
            " [1 0 0 0 1 1 1 0 0 0]\n",
            " [0 0 0 1 1 0 0 1 0 1]\n",
            " [1 0 0 1 1 1 0 1 1 0]\n",
            " [0 0 0 1 0 0 0 1 1 0]\n",
            " [1 1 0 0 1 1 0 0 0 1]\n",
            " [0 1 1 1 1 0 0 0 0 0]\n",
            " [1 0 0 0 1 0 1 0 0 1]]\n"
          ],
          "name": "stdout"
        }
      ]
    },
    {
      "cell_type": "code",
      "metadata": {
        "colab": {
          "base_uri": "https://localhost:8080/"
        },
        "id": "rvLr9PTuI04w",
        "outputId": "784dabe5-692c-4985-f2aa-b3fadd44faa0"
      },
      "source": [
        "j = 10\n",
        "for i in range(j):\n",
        "  print(i)"
      ],
      "execution_count": null,
      "outputs": [
        {
          "output_type": "stream",
          "text": [
            "0\n",
            "1\n",
            "2\n",
            "3\n",
            "4\n",
            "5\n",
            "6\n",
            "7\n",
            "8\n",
            "9\n"
          ],
          "name": "stdout"
        }
      ]
    },
    {
      "cell_type": "code",
      "metadata": {
        "id": "rDT8QmcwLF9F"
      },
      "source": [
        "import numpy as np\n",
        "import pandas as pd\n",
        "import random as rd\n",
        "from random import randint\n",
        "import matplotlib.pyplot as plt"
      ],
      "execution_count": null,
      "outputs": []
    },
    {
      "cell_type": "code",
      "metadata": {
        "id": "kDC40x5_Mipm"
      },
      "source": [
        "def cal_fitness(weight, value, population, threshold):\n",
        "    fitness = np.empty(population.shape[0])\n",
        "    for i in range(population.shape[0]):\n",
        "        S1 = np.sum(population[i] * value)\n",
        "        S2 = np.sum(population[i] * weight)\n",
        "        if S2 <= threshold:\n",
        "            fitness[i] = S1\n",
        "        else :\n",
        "            fitness[i] = 0\n",
        "    return fitness.astype(int)"
      ],
      "execution_count": null,
      "outputs": []
    },
    {
      "cell_type": "code",
      "metadata": {
        "id": "nwmnOecxM7f9"
      },
      "source": [
        "def generate_offsprings_func(population, sigma, alpha):\n",
        "    offsprings = np.empty((num_offsprings, parents.shape[1]))\n",
        "    for i in range(offsprings.shape[0]):\n",
        "        random_value = rd.randint(0,10)\n",
        "\t\tif (random_value > 5):\n",
        "\t\t\toffsprings[i, ]\n",
        "        mutants[i,:] = offsprings[i,:]\n",
        "        if random_value > mutation_rate:\n",
        "            continue\n",
        "        int_random_value = randint(0,offsprings.shape[1]-1)\n",
        "        if mutants[i,int_random_value] == 0 :\n",
        "            mutants[i,int_random_value] = 1\n",
        "        else :\n",
        "            mutants[i,int_random_value] = 0\n",
        "    return offsprings"
      ],
      "execution_count": null,
      "outputs": []
    },
    {
      "cell_type": "code",
      "metadata": {
        "id": "Z6MLyKIXMow3"
      },
      "source": [
        "def selection(fitness, num_parents, population):\n",
        "    fitness = list(fitness)\n",
        "    parents = np.empty((num_parents, population.shape[1]))\n",
        "    for i in range(num_parents):\n",
        "        index=weighted_random_choice(fitness)\n",
        "        parents[i,:] = population[index, :]\n",
        "    return parents\n",
        "\n",
        "def crossover(parents, num_offsprings):\n",
        "    offsprings = np.empty((num_offsprings, parents.shape[1]))\n",
        "    crossover_point = int(parents.shape[1]/2)\n",
        "    crossover_rate = 0.9\n",
        "    i=0\n",
        "    while (parents.shape[0] < num_offsprings):\n",
        "        parent1_index = i%parents.shape[0]\n",
        "        parent2_index = (i+1)%parents.shape[0]\n",
        "        x = rd.random()\n",
        "        if x > crossover_rate:\n",
        "            continue\n",
        "        parent1_index = i%parents.shape[0]\n",
        "        parent2_index = (i+1)%parents.shape[0]\n",
        "        offsprings[i,0:crossover_point] = parents[parent1_index,0:crossover_point]\n",
        "        offsprings[i,crossover_point:] = parents[parent2_index,crossover_point:]\n",
        "        i=+1\n",
        "    return offsprings\n",
        "\n",
        "def mutation(offsprings):\n",
        "    mutants = np.empty((offsprings.shape))\n",
        "    mutation_rate = 0.2\n",
        "    for i in range(mutants.shape[0]):\n",
        "        random_value = rd.random()\n",
        "        mutants[i,:] = offsprings[i,:]\n",
        "        if random_value > mutation_rate:\n",
        "            continue\n",
        "        int_random_value = randint(0,offsprings.shape[1]-1)\n",
        "        if mutants[i,int_random_value] == 0 :\n",
        "            mutants[i,int_random_value] = 1\n",
        "        else :\n",
        "            mutants[i,int_random_value] = 0\n",
        "    return mutants\n",
        "\n",
        "def elitism(mutants, population, fitness, weight, value, threshold):\n",
        "    elitis = np.empty((mutants.shape))\n",
        "    elitis = mutants\n",
        "    parents_max_loc = np.where(fitness == np.max(fitness))[0]\n",
        "    parents_max_loc_real = parents_max_loc[0]\n",
        "    fitness_mutants = cal_fitness(weight, value, mutants, threshold)\n",
        "    mutants_min_loc = np.where(fitness_mutants == np.min(fitness_mutants))\n",
        "    mutants_min_loc_real = mutants_min_loc[0]\n",
        "    elitis[mutants_min_loc_real] = population[parents_max_loc_real]\n",
        "    return elitis"
      ],
      "execution_count": null,
      "outputs": []
    },
    {
      "cell_type": "code",
      "metadata": {
        "id": "TxRkoHxBMvb1"
      },
      "source": [
        "def optimize(weight, value, population, pop_size, num_generations, threshold):\n",
        "    parameters, fitness_history = [], []\n",
        "    num_parents = int(pop_size[0])\n",
        "    num_offsprings = pop_size[0]\n",
        "    for i in range(num_generations-1):\n",
        "        fitness = cal_fitness(weight, value, population, threshold)\n",
        "        fitness_history.append(fitness)\n",
        "        parents = selection(fitness, num_parents, population)\n",
        "        offsprings = crossover(parents, num_offsprings)\n",
        "        mutants = mutation(offsprings)\n",
        "        population = elitism(mutants, population, fitness, weight, value, threshold)\n",
        "\n",
        "    fitness_last_gen = cal_fitness(weight, value, population, threshold)\n",
        "    max_fitness = np.where(fitness_last_gen == np.max(fitness_last_gen))\n",
        "    parameters.append(population[max_fitness[0][0],:])\n",
        "    print (parameters, fitness_history)\n",
        "    return parameters, fitness_history"
      ],
      "execution_count": null,
      "outputs": []
    },
    {
      "cell_type": "code",
      "metadata": {
        "id": "3s0k7zZzMxOM"
      },
      "source": [
        "def kalkulasi(nama_makanan, value_makanan, harga_makanan, uang) :\n",
        "\tnumpy_nama_makanan = np.array([i for i in nama_makanan.split(',')])\n",
        "\tnumpy_value_makanan = np.array([int(i) for i in value_makanan.split(',')])\n",
        "\tnumpy_harga_makanan = np.array([int(i) for i in harga_makanan.split(',')])\n",
        "\n",
        "\titem_number = np.arange(1,11)\n",
        "\tweight = numpy_harga_makanan\n",
        "\tvalue = numpy_value_makanan\n",
        "\tknapsack_threshold = int(uang)\n",
        "\n",
        "\tsolutions_per_pop = 10\n",
        "\tpop_size = (solutions_per_pop, item_number.shape[0])\n",
        "\tinitial_population = np.random.randint(2, size = pop_size)\n",
        "\tinitial_population = initial_population.astype(int)\n",
        "\tnum_generations = 50\n",
        "\n",
        "\tparameters, fitness_history = optimize(weight, value, initial_population, pop_size, num_generations, knapsack_threshold)\n",
        "\tselected_items = item_number * parameters\n",
        "\n",
        "\thasil_nama_makanan = []\n",
        "\tkalori = 0\n",
        "\tuang_yang_dibutuhkan = 0\n",
        "\tfor i in selected_items[0] :\n",
        "\t\tif (i!=0) :\n",
        "\t\t\thasil_nama_makanan.append(numpy_nama_makanan[int(i)-1])\n",
        "\t\t\tkalori = kalori + numpy_value_makanan[int(i)-1]\n",
        "\t\t\tuang_yang_dibutuhkan = uang_yang_dibutuhkan + numpy_harga_makanan[int(i)-1]\n",
        "\n",
        "\thasil_string = \"\"\n",
        "\tfor i in hasil_nama_makanan :\n",
        "\t\thasil_string = hasil_string + i + \",\"\n",
        "\ttotal = []\n",
        "\ttotal.append(hasil_string)\n",
        "\ttotal.append(kalori)\n",
        "\ttotal.append(uang_yang_dibutuhkan)\n",
        "\n",
        "\treturn total"
      ],
      "execution_count": null,
      "outputs": []
    },
    {
      "cell_type": "code",
      "metadata": {
        "colab": {
          "base_uri": "https://localhost:8080/"
        },
        "id": "raUezsc5LJGg",
        "outputId": "25a091c7-ed95-4c7f-b77e-42bf28703ef2"
      },
      "source": [
        "nama_makanan = \"Tugas Alevo, Tugas TBI, Menyuci baju, Mengepel lantai, Menyetrika baju, Memandikan kucing, Mengisi bak mandi, Bermain badminton, Mengurus anak, Mengisi galon\"\n",
        "value_makanan = \"4, 4, 3, 1, 2, 1, 1, 2, 3, 2\"\n",
        "harga_makanan = \"5, 4, 2, 1, 2, 1, 1, 3, 3, 1\"\n",
        "uang = 15\n",
        "kalkulasi(nama_makanan, value_makanan, harga_makanan, uang)"
      ],
      "execution_count": null,
      "outputs": [
        {
          "output_type": "stream",
          "text": [
            "[array([0., 1., 1., 1., 1., 1., 1., 0., 1., 1.])] [array([ 0,  7, 11, 10, 14,  6,  8,  3, 10,  5]), array([14, 17, 17, 17, 17, 17, 17, 17, 17, 17]), array([10, 17, 10, 10, 10, 14, 10, 10, 14, 14]), array([17, 17, 17, 15, 17, 17, 17, 17, 17, 17]), array([10, 14, 14, 10, 10, 17, 17, 17, 10, 10]), array([17, 15, 17, 13, 15, 15, 15, 17, 17, 17]), array([10, 14, 10, 10, 10, 10, 17, 17, 10, 10]), array([17, 17, 14, 17, 17, 17, 15, 17, 17, 17]), array([13, 17, 17, 17, 17, 17, 17, 17, 17, 17]), array([17, 17, 17, 17, 17, 17, 15, 17, 17, 17]), array([17, 17, 17, 17, 17, 17, 17, 17, 17, 17]), array([17, 17, 16, 17, 17, 13, 17, 13, 17, 17]), array([14, 17, 17, 17, 17, 17, 15, 17, 17, 17]), array([17, 17, 17, 17, 17, 17, 17, 17, 17, 17]), array([17, 17, 15, 17, 16, 17, 17, 17, 17, 15]), array([17, 17, 17, 17, 17, 17, 17, 17, 17, 17]), array([17, 17, 17, 17, 17, 17, 17, 17, 17, 17]), array([16, 17, 17, 14, 17, 17, 17, 17, 17, 14]), array([17, 17, 17, 17, 17, 16, 17, 17, 17, 17]), array([16, 17, 17, 17, 17, 15, 16, 17, 14, 14]), array([17, 17, 17, 17, 17, 17, 17, 17, 17, 17]), array([16, 14, 13, 17, 17, 14, 17, 17, 17, 14]), array([17, 17, 17, 17, 17, 17, 17, 15, 17, 17]), array([11, 17, 17, 17, 14, 12, 17, 14, 17, 17]), array([17, 17, 17, 17, 15, 17, 17, 17, 17, 17]), array([17, 17, 17, 17, 17, 12, 17, 17, 12, 13]), array([17, 17, 17, 17, 17, 17, 17, 17, 17, 17]), array([17, 17, 17, 17, 17, 17, 17, 12, 17, 17]), array([17, 17, 17, 17, 17, 17, 17, 17, 17, 17]), array([17, 15, 16, 17, 17, 17, 17, 17, 17, 16]), array([17, 17, 17, 17, 17, 17, 17, 17, 17, 17]), array([17, 16, 16, 17, 17, 17, 17, 17, 16, 16]), array([17, 17, 17, 17, 17, 17, 17, 17, 17, 17]), array([17, 17, 17, 17, 16, 17, 17, 17, 16, 16]), array([17, 17, 17, 17, 17, 17, 17, 17, 17, 17]), array([17, 17, 17, 17, 17, 17, 17, 17, 17, 17]), array([17, 17, 17, 17, 17, 17, 17, 17, 17, 17]), array([17, 17, 17, 17, 17, 17, 17, 17, 17, 17]), array([17, 17, 17, 17, 17, 17, 17, 17, 17, 17]), array([17, 17, 17, 17, 17, 17, 17, 17, 17, 17]), array([17, 17, 17, 17, 17, 17, 17, 17, 17, 17]), array([17, 17, 17, 17, 17, 17, 17, 17, 17, 17]), array([17, 17, 17, 17, 17, 17, 16, 17, 17, 17]), array([17, 17, 17, 17, 17, 17, 17, 17, 17, 17]), array([17, 17, 16, 17, 17, 17, 17, 17, 17, 17]), array([17, 17, 17, 17, 15, 17, 17, 17, 17, 17]), array([17, 16, 16, 16, 14, 17, 17, 15, 17, 17]), array([17, 17, 15, 17, 17, 17, 17, 15, 17, 17]), array([17, 17, 17, 16, 17, 17, 17, 17, 17, 16])]\n"
          ],
          "name": "stdout"
        },
        {
          "output_type": "execute_result",
          "data": {
            "text/plain": [
              "[' Tugas TBI, Menyuci baju, Mengepel lantai, Menyetrika baju, Memandikan kucing, Mengisi bak mandi, Mengurus anak, Mengisi galon,',\n",
              " 17,\n",
              " 15]"
            ]
          },
          "metadata": {
            "tags": []
          },
          "execution_count": 31
        }
      ]
    }
  ]
}